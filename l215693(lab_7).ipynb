{
  "nbformat": 4,
  "nbformat_minor": 0,
  "metadata": {
    "colab": {
      "provenance": []
    },
    "kernelspec": {
      "name": "python3",
      "display_name": "Python 3"
    },
    "language_info": {
      "name": "python"
    }
  },
  "cells": [
    {
      "cell_type": "code",
      "execution_count": null,
      "metadata": {
        "colab": {
          "base_uri": "https://localhost:8080/"
        },
        "id": "92e8nnpCYJs_",
        "outputId": "5cec8191-c511-4496-f656-79eeb2bea70f"
      },
      "outputs": [
        {
          "output_type": "stream",
          "name": "stdout",
          "text": [
            "Looking in indexes: https://pypi.org/simple, https://us-python.pkg.dev/colab-wheels/public/simple/\n",
            "Requirement already satisfied: mrjob in /usr/local/lib/python3.9/dist-packages (0.7.4)\n",
            "Requirement already satisfied: PyYAML>=3.10 in /usr/local/lib/python3.9/dist-packages (from mrjob) (6.0)\n"
          ]
        }
      ],
      "source": [
        "!pip install mrjob"
      ]
    },
    {
      "cell_type": "code",
      "source": [
        "%%writefile count.py\n",
        "\n",
        "from mrjob.job import MRJob\n",
        "\n",
        "\n",
        "class MRWordFrequencyCount(MRJob):\n",
        "\n",
        "    def mapper(self, _, line):\n",
        "        yield \"chars\", len(line)\n",
        "        yield \"words\", len(line.split())\n",
        "        yield \"lines\", 1\n",
        "\n",
        "    def reducer(self, key, values):\n",
        "        yield key, sum(values)\n",
        "\n",
        "\n",
        "\n",
        "if __name__ == '__main__':\n",
        "    MRWordFrequencyCount.run()"
      ],
      "metadata": {
        "colab": {
          "base_uri": "https://localhost:8080/"
        },
        "id": "JVSw6JwocRBL",
        "outputId": "f2124aa5-c77e-4b21-b997-bd664150b946"
      },
      "execution_count": null,
      "outputs": [
        {
          "output_type": "stream",
          "name": "stdout",
          "text": [
            "Writing count.py\n"
          ]
        }
      ]
    },
    {
      "cell_type": "code",
      "source": [
        "%%writefile txtfile.txt\n",
        "Big Data, haven’t you heard this term before? I am sure you have. In the last 4 to 5 years, everyone is talking about Big Data. But do you really know what exactly is Big Data, how is it making an impact on our lives & why organizations are hunting for professionals with Big Data skills? In this Big Data Tutorial, I will give you a complete insight into Big Data. For further details, refer to the Big Data Course.\n",
        "Below are the topics which I will cover in this Big Data Tutorial:\n",
        "    • Story of Big Data\n",
        "    • Big Data Driving Factors\n",
        "    • What is Big Data?\n",
        "    • Big Data Characteristics\n",
        "    • Types of Big Data\n",
        "    • Examples of Big Data\n",
        "    • Applications of Big Data\n",
        "    • Challenges with Big Data\n",
        "\n",
        "Story of Big Data\n",
        "In ancient days, people used to travel from one village to another village on a horse driven cart, but as the time passed, villages became towns and people spread out. The distance to travel from one town to the other town also increased. So, it became a problem to travel between towns, along with the luggage. Out of the blue, one smart fella suggested, we should groom and feed a horse more, to solve this problem. When I look at this solution, it is not that bad, but do you think a horse can become an elephant? I don’t think so.  Another smart guy said, instead of 1 horse pulling the cart, let us have 4 horses to pull the same cart. What do you guys think of this solution? I think it is a fantastic solution. Now, people can travel large distances in less time and even carry more luggage.\n",
        "The same concept applies on Big Data. Big Data says, till today, we were okay with storing the data into our servers because the volume of the data was pretty limited, and the amount of time to process this data was also okay.  But now in this current technological world, the data is growing too fast and people are relying on the data a lot of times. Also the speed at which the data is growing, it is becoming impossible to store the data into any server.\n",
        "Through this blog on Big Data Tutorial, let us explore the sources of Big Data, which the traditional systems are failing to store and process. You can even check out the details of Big Data with the Data Engineer Course."
      ],
      "metadata": {
        "colab": {
          "base_uri": "https://localhost:8080/"
        },
        "id": "FQPXlZV5novl",
        "outputId": "16dda87b-664c-48a6-f1c9-a21efa1febd4"
      },
      "execution_count": null,
      "outputs": [
        {
          "output_type": "stream",
          "name": "stdout",
          "text": [
            "Writing txtfile.txt\n"
          ]
        }
      ]
    },
    {
      "cell_type": "code",
      "source": [
        "!python count.py txtfile.txt"
      ],
      "metadata": {
        "id": "kPUv7QRWoAAG",
        "colab": {
          "base_uri": "https://localhost:8080/"
        },
        "outputId": "1ed5f5ff-1930-464f-900b-9f3cfae7b010"
      },
      "execution_count": null,
      "outputs": [
        {
          "output_type": "stream",
          "name": "stdout",
          "text": [
            "No configs found; falling back on auto-configuration\n",
            "No configs specified for inline runner\n",
            "Creating temp directory /tmp/count.root.20230314.055852.347372\n",
            "Running step 1 of 1...\n",
            "job output is in /tmp/count.root.20230314.055852.347372/output\n",
            "Streaming final output from /tmp/count.root.20230314.055852.347372/output...\n",
            "\"chars\"\t2191\n",
            "\"words\"\t414\n",
            "\"lines\"\t15\n",
            "Removing temp directory /tmp/count.root.20230314.055852.347372...\n"
          ]
        }
      ]
    },
    {
      "cell_type": "code",
      "source": [
        "%%writefile each_word_occurence.py\n",
        "from mrjob.job import MRJob\n",
        "class WORD_OCCURENCE(MRJob):\n",
        "    def mapper(self,_,line):\n",
        "      for word in line.split():\n",
        "              yield(word, 1)\n",
        "    def reducer(self,word,counts):\n",
        "         yield(word, sum(counts))\n",
        "if __name__ == '__main__':\n",
        "    WORD_OCCURENCE.run()"
      ],
      "metadata": {
        "colab": {
          "base_uri": "https://localhost:8080/"
        },
        "id": "awVa6rfPtpz5",
        "outputId": "6770e49a-aa66-4dbc-fa58-5174094d3813"
      },
      "execution_count": null,
      "outputs": [
        {
          "output_type": "stream",
          "name": "stdout",
          "text": [
            "Writing each_word_occurence.py\n"
          ]
        }
      ]
    },
    {
      "cell_type": "code",
      "source": [
        "!python each_word_occurence.py -r local txtfile.txt"
      ],
      "metadata": {
        "colab": {
          "base_uri": "https://localhost:8080/"
        },
        "id": "YENFXSTRt70I",
        "outputId": "c5b51f9a-6bdb-4ced-f582-ea59e1e0c095"
      },
      "execution_count": null,
      "outputs": [
        {
          "output_type": "stream",
          "name": "stdout",
          "text": [
            "No configs found; falling back on auto-configuration\n",
            "No configs specified for local runner\n",
            "Creating temp directory /tmp/each_word_occurence.root.20230314.060415.951143\n",
            "Running step 1 of 1...\n",
            "job output is in /tmp/each_word_occurence.root.20230314.060415.951143/output\n",
            "Streaming final output from /tmp/each_word_occurence.root.20230314.060415.951143/output...\n",
            "\"&\"\t1\n",
            "\"1\"\t1\n",
            "\"4\"\t2\n",
            "\"5\"\t1\n",
            "\"Also\"\t1\n",
            "\"Another\"\t1\n",
            "\"Applications\"\t1\n",
            "\"Below\"\t1\n",
            "\"Big\"\t22\n",
            "\"But\"\t2\n",
            "\"Challenges\"\t1\n",
            "\"Characteristics\"\t1\n",
            "\"Course.\"\t2\n",
            "\"Data\"\t16\n",
            "\"Data,\"\t3\n",
            "\"Data.\"\t3\n",
            "\"Data?\"\t1\n",
            "\"Driving\"\t1\n",
            "\"Engineer\"\t1\n",
            "\"Examples\"\t1\n",
            "\"Factors\"\t1\n",
            "\"For\"\t1\n",
            "\"I\"\t6\n",
            "\"In\"\t3\n",
            "\"Now,\"\t1\n",
            "\"Out\"\t1\n",
            "\"So,\"\t1\n",
            "\"Story\"\t2\n",
            "\"The\"\t2\n",
            "\"Through\"\t1\n",
            "\"Tutorial,\"\t2\n",
            "\"Tutorial:\"\t1\n",
            "\"Types\"\t1\n",
            "\"What\"\t2\n",
            "\"When\"\t1\n",
            "\"You\"\t1\n",
            "\"\\u2022\"\t8\n",
            "\"a\"\t7\n",
            "\"about\"\t1\n",
            "\"along\"\t1\n",
            "\"also\"\t2\n",
            "\"increased.\"\t1\n",
            "\"insight\"\t1\n",
            "\"instead\"\t1\n",
            "\"into\"\t3\n",
            "\"is\"\t9\n",
            "\"it\"\t5\n",
            "\"know\"\t1\n",
            "\"large\"\t1\n",
            "\"last\"\t1\n",
            "\"less\"\t1\n",
            "\"let\"\t2\n",
            "\"limited,\"\t1\n",
            "\"lives\"\t1\n",
            "\"look\"\t1\n",
            "\"lot\"\t1\n",
            "\"luggage.\"\t2\n",
            "\"making\"\t1\n",
            "\"more\"\t1\n",
            "\"more,\"\t1\n",
            "\"not\"\t1\n",
            "\"now\"\t1\n",
            "\"of\"\t13\n",
            "\"okay\"\t1\n",
            "\"okay.\"\t1\n",
            "\"on\"\t5\n",
            "\"one\"\t3\n",
            "\"organizations\"\t1\n",
            "\"other\"\t1\n",
            "\"our\"\t2\n",
            "\"out\"\t1\n",
            "\"out.\"\t1\n",
            "\"passed,\"\t1\n",
            "\"people\"\t4\n",
            "\"pretty\"\t1\n",
            "\"problem\"\t1\n",
            "\"problem.\"\t1\n",
            "\"process\"\t1\n",
            "\"process.\"\t1\n",
            "\"professionals\"\t1\n",
            "\"pull\"\t1\n",
            "\"pulling\"\t1\n",
            "\"really\"\t1\n",
            "\"refer\"\t1\n",
            "\"relying\"\t1\n",
            "\"said,\"\t1\n",
            "\"same\"\t2\n",
            "\"says,\"\t1\n",
            "\"server.\"\t1\n",
            "\"servers\"\t1\n",
            "\"should\"\t1\n",
            "\"skills?\"\t1\n",
            "\"smart\"\t2\n",
            "\"so.\"\t1\n",
            "\"solution,\"\t1\n",
            "\"solution.\"\t1\n",
            "\"solution?\"\t1\n",
            "\"solve\"\t1\n",
            "\"sources\"\t1\n",
            "\"speed\"\t1\n",
            "\"spread\"\t1\n",
            "\"store\"\t2\n",
            "\"storing\"\t1\n",
            "\"am\"\t1\n",
            "\"amount\"\t1\n",
            "\"an\"\t2\n",
            "\"ancient\"\t1\n",
            "\"and\"\t6\n",
            "\"another\"\t1\n",
            "\"any\"\t1\n",
            "\"applies\"\t1\n",
            "\"are\"\t4\n",
            "\"as\"\t1\n",
            "\"at\"\t2\n",
            "\"bad,\"\t1\n",
            "\"became\"\t2\n",
            "\"because\"\t1\n",
            "\"become\"\t1\n",
            "\"becoming\"\t1\n",
            "\"before?\"\t1\n",
            "\"between\"\t1\n",
            "\"blog\"\t1\n",
            "\"blue,\"\t1\n",
            "\"but\"\t2\n",
            "\"can\"\t3\n",
            "\"carry\"\t1\n",
            "\"cart,\"\t2\n",
            "\"cart.\"\t1\n",
            "\"check\"\t1\n",
            "\"complete\"\t1\n",
            "\"concept\"\t1\n",
            "\"cover\"\t1\n",
            "\"current\"\t1\n",
            "\"data\"\t7\n",
            "\"days,\"\t1\n",
            "\"details\"\t1\n",
            "\"details,\"\t1\n",
            "\"distance\"\t1\n",
            "\"distances\"\t1\n",
            "\"do\"\t3\n",
            "\"don\\u2019t\"\t1\n",
            "\"driven\"\t1\n",
            "\"elephant?\"\t1\n",
            "\"even\"\t2\n",
            "\"everyone\"\t1\n",
            "\"exactly\"\t1\n",
            "\"explore\"\t1\n",
            "\"failing\"\t1\n",
            "\"fantastic\"\t1\n",
            "\"fast\"\t1\n",
            "\"feed\"\t1\n",
            "\"fella\"\t1\n",
            "\"for\"\t1\n",
            "\"from\"\t2\n",
            "\"further\"\t1\n",
            "\"give\"\t1\n",
            "\"groom\"\t1\n",
            "\"growing\"\t1\n",
            "\"growing,\"\t1\n",
            "\"guy\"\t1\n",
            "\"guys\"\t1\n",
            "\"have\"\t1\n",
            "\"have.\"\t1\n",
            "\"haven\\u2019t\"\t1\n",
            "\"heard\"\t1\n",
            "\"horse\"\t4\n",
            "\"horses\"\t1\n",
            "\"how\"\t1\n",
            "\"hunting\"\t1\n",
            "\"impact\"\t1\n",
            "\"impossible\"\t1\n",
            "\"in\"\t3\n",
            "\"suggested,\"\t1\n",
            "\"sure\"\t1\n",
            "\"systems\"\t1\n",
            "\"talking\"\t1\n",
            "\"technological\"\t1\n",
            "\"term\"\t1\n",
            "\"that\"\t1\n",
            "\"the\"\t22\n",
            "\"think\"\t4\n",
            "\"this\"\t9\n",
            "\"till\"\t1\n",
            "\"time\"\t3\n",
            "\"times.\"\t1\n",
            "\"to\"\t12\n",
            "\"today,\"\t1\n",
            "\"too\"\t1\n",
            "\"topics\"\t1\n",
            "\"town\"\t2\n",
            "\"towns\"\t1\n",
            "\"towns,\"\t1\n",
            "\"traditional\"\t1\n",
            "\"travel\"\t4\n",
            "\"us\"\t2\n",
            "\"used\"\t1\n",
            "\"village\"\t2\n",
            "\"villages\"\t1\n",
            "\"volume\"\t1\n",
            "\"was\"\t2\n",
            "\"we\"\t2\n",
            "\"were\"\t1\n",
            "\"what\"\t1\n",
            "\"which\"\t3\n",
            "\"why\"\t1\n",
            "\"will\"\t2\n",
            "\"with\"\t5\n",
            "\"world,\"\t1\n",
            "\"years,\"\t1\n",
            "\"you\"\t6\n",
            "Removing temp directory /tmp/each_word_occurence.root.20230314.060415.951143...\n"
          ]
        }
      ]
    }
  ]
}