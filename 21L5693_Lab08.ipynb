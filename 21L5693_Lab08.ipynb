{
  "nbformat": 4,
  "nbformat_minor": 0,
  "metadata": {
    "colab": {
      "provenance": []
    },
    "kernelspec": {
      "name": "python3",
      "display_name": "Python 3"
    },
    "language_info": {
      "name": "python"
    }
  },
  "cells": [
    {
      "cell_type": "code",
      "source": [
        "!pip install mrjob"
      ],
      "metadata": {
        "colab": {
          "base_uri": "https://localhost:8080/"
        },
        "id": "-zx8sXW2dqyN",
        "outputId": "eb8455a2-b16f-4451-a211-36132919cca2"
      },
      "execution_count": 1,
      "outputs": [
        {
          "output_type": "stream",
          "name": "stdout",
          "text": [
            "Looking in indexes: https://pypi.org/simple, https://us-python.pkg.dev/colab-wheels/public/simple/\n",
            "Collecting mrjob\n",
            "  Downloading mrjob-0.7.4-py2.py3-none-any.whl (439 kB)\n",
            "\u001b[2K     \u001b[90m━━━━━━━━━━━━━━━━━━━━━━━━━━━━━━━━━━━━━━\u001b[0m \u001b[32m439.6/439.6 KB\u001b[0m \u001b[31m27.3 MB/s\u001b[0m eta \u001b[36m0:00:00\u001b[0m\n",
            "\u001b[?25hRequirement already satisfied: PyYAML>=3.10 in /usr/local/lib/python3.9/dist-packages (from mrjob) (6.0)\n",
            "Installing collected packages: mrjob\n",
            "Successfully installed mrjob-0.7.4\n"
          ]
        }
      ]
    },
    {
      "cell_type": "code",
      "source": [
        "%%writefile abc.txt\n",
        "Ali, 12-3-20, S1, S2, S3\n",
        "Fahad, 14-04-22, S1, S2, S7, S3\n",
        "Ali, 20-4-22, S1, S2\n",
        "Sara, 20-4-22, S1, S7, S9\n",
        "Amina, 20-4-22, S1"
      ],
      "metadata": {
        "colab": {
          "base_uri": "https://localhost:8080/"
        },
        "id": "2qp8mp4bl0Zl",
        "outputId": "9f096cb8-c2e5-41ff-ab59-8f2c0a89b30c"
      },
      "execution_count": 48,
      "outputs": [
        {
          "output_type": "stream",
          "name": "stdout",
          "text": [
            "Overwriting abc.txt\n"
          ]
        }
      ]
    },
    {
      "cell_type": "code",
      "execution_count": 7,
      "metadata": {
        "colab": {
          "base_uri": "https://localhost:8080/"
        },
        "id": "oChpJtvfc9qz",
        "outputId": "cf75b17b-ca76-480d-91e4-4698b6e82803"
      },
      "outputs": [
        {
          "output_type": "stream",
          "name": "stdout",
          "text": [
            "Overwriting mapcode.py\n"
          ]
        }
      ],
      "source": [
        "%%writefile mapcode.py\n",
        "from mrjob.job import MRJob\n",
        "\n",
        "class MusicPlayed(MRJob):\n",
        "\n",
        "    def mapper(self, _, line):\n",
        "        fields = list(line.split(\",\"))\n",
        "        user = fields[0]\n",
        "        date = fields[1]\n",
        "        song_count = len(fields[2:])\n",
        "        yield (user + ',' + date, song_count)\n",
        "\n",
        "    def combiner(self, key, values):\n",
        "        yield (key, sum(values))\n",
        "\n",
        "    def reducer(self, key, values):\n",
        "        if sum(values) > 5:\n",
        "            user, date = key.split(',')\n",
        "            yield (user, date)\n",
        "\n",
        "if __name__ == '__main__':\n",
        "    MusicPlayed.run()"
      ]
    },
    {
      "cell_type": "code",
      "source": [
        "!python mapcode.py -r local abc.txt > output_file.txt"
      ],
      "metadata": {
        "colab": {
          "base_uri": "https://localhost:8080/"
        },
        "id": "HVivrSWKlqnr",
        "outputId": "edc27dfe-9e8a-4fe5-b526-6207a1848410"
      },
      "execution_count": 8,
      "outputs": [
        {
          "output_type": "stream",
          "name": "stdout",
          "text": [
            "No configs found; falling back on auto-configuration\n",
            "No configs specified for local runner\n",
            "Creating temp directory /tmp/mapcode.root.20230327.065442.119085\n",
            "Running step 1 of 1...\n",
            "job output is in /tmp/mapcode.root.20230327.065442.119085/output\n",
            "Streaming final output from /tmp/mapcode.root.20230327.065442.119085/output...\n",
            "Removing temp directory /tmp/mapcode.root.20230327.065442.119085...\n"
          ]
        }
      ]
    },
    {
      "cell_type": "code",
      "source": [
        "%%writefile lab8Q2.py\n",
        "from mrjob.job import MRJob\n",
        "\n",
        "class MusicPlayed(MRJob):\n",
        "\n",
        "    def mapper(self, _, line):\n",
        "        fields = list(line.split(\",\"))\n",
        "        user = fields[0]\n",
        "        date = fields[1]\n",
        "        song_count = len(fields[2:])\n",
        "        yield (user + ',' + date, song_count)\n",
        "\n",
        "    def reducer(self, key, values):\n",
        "        yield (key, sum(values))\n",
        "\n",
        "if __name__ == '__main__':\n",
        "    MusicPlayed.run()"
      ],
      "metadata": {
        "colab": {
          "base_uri": "https://localhost:8080/"
        },
        "id": "BwoHKyF22cTt",
        "outputId": "7524a557-06d9-48d1-f539-fea008e7101a"
      },
      "execution_count": 16,
      "outputs": [
        {
          "output_type": "stream",
          "name": "stdout",
          "text": [
            "Overwriting lab8Q2.py\n"
          ]
        }
      ]
    },
    {
      "cell_type": "code",
      "source": [
        "!python lab8Q2.py -r local abc.txt > output_file2.txt"
      ],
      "metadata": {
        "colab": {
          "base_uri": "https://localhost:8080/"
        },
        "id": "9ExvMOTA2vkv",
        "outputId": "37953f88-7049-4bef-84bc-bb2a20181a47"
      },
      "execution_count": 17,
      "outputs": [
        {
          "output_type": "stream",
          "name": "stdout",
          "text": [
            "No configs found; falling back on auto-configuration\n",
            "No configs specified for local runner\n",
            "Creating temp directory /tmp/lab8Q2.root.20230327.070003.242596\n",
            "Running step 1 of 1...\n",
            "job output is in /tmp/lab8Q2.root.20230327.070003.242596/output\n",
            "Streaming final output from /tmp/lab8Q2.root.20230327.070003.242596/output...\n",
            "Removing temp directory /tmp/lab8Q2.root.20230327.070003.242596...\n"
          ]
        }
      ]
    },
    {
      "cell_type": "code",
      "source": [
        "%%writefile lab8Q3.py\n",
        "from mrjob.job import MRJob\n",
        "\n",
        "class MusicPlayed(MRJob):\n",
        "\n",
        "    def mapper(self, _, line):\n",
        "        fields = list(line.split(\",\"))\n",
        "        user = fields[0]\n",
        "        date = fields[1]\n",
        "        song_count = len(fields[2:])\n",
        "        yield (user, song_count)\n",
        "    \n",
        "    def combiner(self,key,values):\n",
        "        yield (key,sum(values))\n",
        "\n",
        "    def reducer(self, key, values):\n",
        "        yield (key, sum(values))\n",
        "\n",
        "if __name__ == '__main__':\n",
        "    MusicPlayed.run()"
      ],
      "metadata": {
        "colab": {
          "base_uri": "https://localhost:8080/"
        },
        "id": "yoRF3_xC3v0b",
        "outputId": "bbb0f4fb-23c9-4c9d-d8f9-e91944a77d02"
      },
      "execution_count": 18,
      "outputs": [
        {
          "output_type": "stream",
          "name": "stdout",
          "text": [
            "Writing lab8Q3.py\n"
          ]
        }
      ]
    },
    {
      "cell_type": "code",
      "source": [
        "!python lab8Q3.py -r local abc.txt > output_file3.txt"
      ],
      "metadata": {
        "colab": {
          "base_uri": "https://localhost:8080/"
        },
        "id": "2pegTzxZ4Ir7",
        "outputId": "0c419312-7d34-44ff-eea9-4106a39a2f37"
      },
      "execution_count": 19,
      "outputs": [
        {
          "output_type": "stream",
          "name": "stdout",
          "text": [
            "No configs found; falling back on auto-configuration\n",
            "No configs specified for local runner\n",
            "Creating temp directory /tmp/lab8Q3.root.20230327.070315.555307\n",
            "Running step 1 of 1...\n",
            "job output is in /tmp/lab8Q3.root.20230327.070315.555307/output\n",
            "Streaming final output from /tmp/lab8Q3.root.20230327.070315.555307/output...\n",
            "Removing temp directory /tmp/lab8Q3.root.20230327.070315.555307...\n"
          ]
        }
      ]
    },
    {
      "cell_type": "code",
      "source": [
        "%%writefile lab8Q4.py\n",
        "from mrjob.job import MRJob\n",
        "\n",
        "class MusicPlayed(MRJob):\n",
        "    def mapper(self, _, line):\n",
        "        user, date, *songs = line.strip().split(\",\")\n",
        "        for song in songs:\n",
        "            yield (date, 1)\n",
        "\n",
        "\n",
        "    def combiner(self,date, counts):\n",
        "        yield (date, sum(counts))\n",
        "\n",
        "    def reducer(self,date, counts):\n",
        "        total = sum(counts)\n",
        "        num_users = len(set(line.split(\",\")[0] for line in open('/content/abc.txt') if date in line))\n",
        "        yield (date, total / num_users)\n",
        "\n",
        "if __name__ == '__main__':\n",
        "    MusicPlayed.run()\n"
      ],
      "metadata": {
        "colab": {
          "base_uri": "https://localhost:8080/"
        },
        "id": "FdS8PBy95EJp",
        "outputId": "4a2ae133-4320-42b2-cd5b-2c9eb76b79b5"
      },
      "execution_count": 40,
      "outputs": [
        {
          "output_type": "stream",
          "name": "stdout",
          "text": [
            "Overwriting lab8Q4.py\n"
          ]
        }
      ]
    },
    {
      "cell_type": "code",
      "source": [
        "!python lab8Q4.py -r local abc.txt > output_file4.txt"
      ],
      "metadata": {
        "colab": {
          "base_uri": "https://localhost:8080/"
        },
        "id": "oT10QHB46sh6",
        "outputId": "8eb5406c-a60c-4a9f-81b2-b0d21017534c"
      },
      "execution_count": 41,
      "outputs": [
        {
          "output_type": "stream",
          "name": "stdout",
          "text": [
            "No configs found; falling back on auto-configuration\n",
            "No configs specified for local runner\n",
            "Creating temp directory /tmp/lab8Q4.root.20230327.072430.725636\n",
            "Running step 1 of 1...\n",
            "job output is in /tmp/lab8Q4.root.20230327.072430.725636/output\n",
            "Streaming final output from /tmp/lab8Q4.root.20230327.072430.725636/output...\n",
            "Removing temp directory /tmp/lab8Q4.root.20230327.072430.725636...\n"
          ]
        }
      ]
    },
    {
      "cell_type": "code",
      "source": [
        "%%writefile lab8Q5.py\n",
        "from mrjob.job import MRJob\n",
        "\n",
        "class MusicPlayed(MRJob):\n",
        "    def mapper(self, _, line):\n",
        "        user, date, *songs = line.strip().split(\",\")\n",
        "        for song in songs:\n",
        "            yield (song, 1)\n",
        "\n",
        "\n",
        "    def combiner(self,key, counts):\n",
        "        yield (key, sum(counts))\n",
        "\n",
        "    def reducer(self,key, counts):\n",
        "        yield (key, sum(counts))\n",
        "\n",
        "if __name__ == '__main__':\n",
        "    MusicPlayed.run()\n"
      ],
      "metadata": {
        "colab": {
          "base_uri": "https://localhost:8080/"
        },
        "id": "PoLBeu_9-IoO",
        "outputId": "4627e5f2-7e09-4765-98c7-31a104d324f6"
      },
      "execution_count": 53,
      "outputs": [
        {
          "output_type": "stream",
          "name": "stdout",
          "text": [
            "Overwriting lab8Q5.py\n"
          ]
        }
      ]
    },
    {
      "cell_type": "code",
      "source": [
        "!python lab8Q5.py -r local abc.txt > output_file5.txt"
      ],
      "metadata": {
        "colab": {
          "base_uri": "https://localhost:8080/"
        },
        "id": "qvb5hiWf-cPt",
        "outputId": "885b37c3-0242-4f0c-8d94-0e21a1098393"
      },
      "execution_count": 49,
      "outputs": [
        {
          "output_type": "stream",
          "name": "stdout",
          "text": [
            "No configs found; falling back on auto-configuration\n",
            "No configs specified for local runner\n",
            "Creating temp directory /tmp/lab8Q5.root.20230327.073510.224201\n",
            "Running step 1 of 1...\n",
            "job output is in /tmp/lab8Q5.root.20230327.073510.224201/output\n",
            "Streaming final output from /tmp/lab8Q5.root.20230327.073510.224201/output...\n",
            "Removing temp directory /tmp/lab8Q5.root.20230327.073510.224201...\n"
          ]
        }
      ]
    },
    {
      "cell_type": "code",
      "source": [
        "%%writefile lab8Q6.py\n",
        "from mrjob.job import MRJob\n",
        "\n",
        "class MusicPlayed(MRJob):\n",
        "    def mapper(self, _, line):\n",
        "        user, date, *songs = line.strip().split(\",\")\n",
        "        for song in songs:\n",
        "            yield (date+','+user, 1)\n",
        "\n",
        "\n",
        "    def combiner(self,key, counts):\n",
        "        yield (key, sum(counts))\n",
        "\n",
        "    def reducer(self,key, counts):\n",
        "        date,user=key.split(',')\n",
        "        max_user=counts\n",
        "        for date in key:\n",
        "          if max_user<counts:\n",
        "              max_user=counts\n",
        "        yield (date, max_user)\n",
        "\n",
        "if __name__ == '__main__':\n",
        "    MusicPlayed.run()\n"
      ],
      "metadata": {
        "colab": {
          "base_uri": "https://localhost:8080/"
        },
        "id": "MZB55qvlBWeV",
        "outputId": "24d3e719-88c1-45d1-ff4f-f0dcd68435e2"
      },
      "execution_count": 62,
      "outputs": [
        {
          "output_type": "stream",
          "name": "stdout",
          "text": [
            "Overwriting lab8Q6.py\n"
          ]
        }
      ]
    },
    {
      "cell_type": "code",
      "source": [
        "!python lab8Q6.py -r local abc.txt > output_file6.txt"
      ],
      "metadata": {
        "colab": {
          "base_uri": "https://localhost:8080/"
        },
        "id": "ARWOUUBbCzwT",
        "outputId": "8da94c70-104c-45fb-ad1c-6c8a14ef9a89"
      },
      "execution_count": 63,
      "outputs": [
        {
          "output_type": "stream",
          "name": "stdout",
          "text": [
            "No configs found; falling back on auto-configuration\n",
            "No configs specified for local runner\n",
            "Creating temp directory /tmp/lab8Q6.root.20230327.075611.941363\n",
            "Running step 1 of 1...\n",
            "\n",
            "Probable cause of failure:\n",
            "\n",
            "+ /usr/bin/python3 lab8Q6.py --step-num=0 --reducer\n",
            "Traceback (most recent call last):\n",
            "  File \"/tmp/lab8Q6.root.20230327.075611.941363/step/000/reducer/00000/wd/lab8Q6.py\", line 22, in <module>\n",
            "    MusicPlayed.run()\n",
            "  File \"/tmp/lab8Q6.root.20230327.075611.941363/step/000/reducer/00000/wd/mrjob.zip/mrjob/job.py\", line 616, in run\n",
            "  File \"/tmp/lab8Q6.root.20230327.075611.941363/step/000/reducer/00000/wd/mrjob.zip/mrjob/job.py\", line 681, in execute\n",
            "  File \"/tmp/lab8Q6.root.20230327.075611.941363/step/000/reducer/00000/wd/mrjob.zip/mrjob/job.py\", line 795, in run_reducer\n",
            "  File \"/tmp/lab8Q6.root.20230327.075611.941363/step/000/reducer/00000/wd/mrjob.zip/mrjob/job.py\", line 866, in reduce_pairs\n",
            "  File \"/tmp/lab8Q6.root.20230327.075611.941363/step/000/reducer/00000/wd/mrjob.zip/mrjob/job.py\", line 889, in _combine_or_reduce_pairs\n",
            "  File \"/tmp/lab8Q6.root.20230327.075611.941363/step/000/reducer/00000/wd/lab8Q6.py\", line 17, in reducer\n",
            "    if max_user<counts:\n",
            "TypeError: '<' not supported between instances of 'generator' and 'generator'\n",
            "\n",
            "(from lines 7-18 of /tmp/lab8Q6.root.20230327.075611.941363/step/000/reducer/00000/stderr)\n",
            "\n",
            "while reading input from /tmp/lab8Q6.root.20230327.075611.941363/step/000/reducer/00000/input\n",
            "\n",
            "\n",
            "Step 1 of 1 failed: Command '['/bin/sh', '-ex', 'setup-wrapper.sh', '/usr/bin/python3', 'lab8Q6.py', '--step-num=0', '--reducer']' returned non-zero exit status 1.\n"
          ]
        }
      ]
    }
  ]
}